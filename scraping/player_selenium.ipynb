{
 "cells": [
  {
   "cell_type": "code",
   "execution_count": 11,
   "metadata": {},
   "outputs": [],
   "source": [
    "from selenium import webdriver\n",
    "from bs4 import BeautifulSoup\n",
    "import time\n",
    "import random\n",
    "\n",
    "driver = webdriver.Chrome()\n",
    "driver.get(\"https://www.zerozero.pt/player.php?id=587619&epoca_id=152\")"
   ]
  },
  {
   "cell_type": "code",
   "execution_count": 12,
   "metadata": {},
   "outputs": [],
   "source": [
    "page_source = driver.page_source"
   ]
  },
  {
   "cell_type": "code",
   "execution_count": 13,
   "metadata": {},
   "outputs": [],
   "source": [
    "soup = BeautifulSoup(page_source, 'html.parser')"
   ]
  },
  {
   "cell_type": "code",
   "execution_count": 14,
   "metadata": {},
   "outputs": [],
   "source": [
    "#get link to player image\n",
    "html_player_image = soup.find(\"div\",class_=\"profile_picture\")\n",
    "player_logo = html_player_image.find(\"img\").get(\"src\")\n"
   ]
  },
  {
   "cell_type": "code",
   "execution_count": 15,
   "metadata": {},
   "outputs": [],
   "source": [
    "def divide_chunks(l, n):\n",
    "     \n",
    "    # looping till length l\n",
    "    for i in range(0, len(l), n):\n",
    "        yield l[i:i + n]"
   ]
  },
  {
   "cell_type": "code",
   "execution_count": 16,
   "metadata": {},
   "outputs": [
    {
     "name": "stdout",
     "output_type": "stream",
     "text": [
      "{'UEFA Youth League': ['6', '540', '10', '1'], 'Nacional Sub-23': ['3', '270', '3', '0'], 'Torneio de Abertura Liga Revelação Sub-23': ['2', '180', '1', '0'], 'Total': ['11', '990', '14', '1']}\n"
     ]
    }
   ],
   "source": [
    "b = soup.find(id=\"team_games\")\n",
    "\n",
    "lines = b.find_all(\"td\")\n",
    "\n",
    "x = list(divide_chunks(lines, 5))\n",
    "competitions = {}\n",
    "for i in range(len(x)-1):\n",
    "    competitions[x[i][0].text] = [x[i][1].text, x[i][2].text, x[i][3].text, x[i][4].text]\n",
    "\n",
    "\n",
    "print(competitions)"
   ]
  },
  {
   "cell_type": "code",
   "execution_count": 17,
   "metadata": {},
   "outputs": [
    {
     "name": "stdout",
     "output_type": "stream",
     "text": [
      "{'Finalíssima Intercontinental Sub-20': ['1'], 'UEFA Youth League': ['1'], 'CONCACAF U15': ['1'], 'Nacional Juniores A 1ª Divisão': ['1']}\n"
     ]
    }
   ],
   "source": [
    "c = soup.find(id=\"coach_titles\")\n",
    "titles = {}\n",
    "if c != None:\n",
    "    entries = c.find_all(\"div\", class_=\"trophy\")\n",
    "    for x in entries:\n",
    "        titles[x.find(\"div\", class_=\"competition\").text] = x.find(\"div\", class_=\"number\").contents\n",
    "        # print(x.find(\"div\", class_=\"text\"))\n",
    "        # print(x.find(\"div\", class_=\"number\"))\n",
    "\n",
    "print(titles)"
   ]
  },
  {
   "cell_type": "code",
   "execution_count": 18,
   "metadata": {},
   "outputs": [
    {
     "name": "stdout",
     "output_type": "stream",
     "text": [
      "{'2022/23': ['Benfica [Jun.A S19]', '6', '0', '1'], '': ['Benfica', '0', '-', '-']}\n"
     ]
    }
   ],
   "source": [
    "c = soup.find(id=\"coach_career\").find(\"table\")\n",
    "player_clubs = {}\n",
    "entries = c.find_all(\"td\")\n",
    "for i in range(3):\n",
    "    player_clubs[entries[6*i+1].text] = [entries[6*i+2].text,entries[6*i+3].text, entries[6*i+4].text, entries[6*i+5].text]\n",
    "\n",
    "print(player_clubs)\n"
   ]
  }
 ],
 "metadata": {
  "kernelspec": {
   "display_name": "Python 3.10.8 64-bit (microsoft store)",
   "language": "python",
   "name": "python3"
  },
  "language_info": {
   "codemirror_mode": {
    "name": "ipython",
    "version": 3
   },
   "file_extension": ".py",
   "mimetype": "text/x-python",
   "name": "python",
   "nbconvert_exporter": "python",
   "pygments_lexer": "ipython3",
   "version": "3.10.9"
  },
  "orig_nbformat": 4,
  "vscode": {
   "interpreter": {
    "hash": "f05704f4740528ec32f28c6a01955d2cfab9eb44c7658f067771bac1ea3accf5"
   }
  }
 },
 "nbformat": 4,
 "nbformat_minor": 2
}
