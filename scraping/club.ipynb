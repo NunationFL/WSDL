{
 "cells": [
  {
   "cell_type": "code",
   "execution_count": 1,
   "metadata": {},
   "outputs": [],
   "source": [
    "from selenium import webdriver\n",
    "from bs4 import BeautifulSoup\n",
    "import time\n",
    "import random\n",
    "\n",
    "driver = webdriver.Chrome()\n",
    "driver.get(\"https://www.zerozero.pt/equipa.php?id=9&epoca_id=152\")"
   ]
  },
  {
   "cell_type": "code",
   "execution_count": 2,
   "metadata": {},
   "outputs": [],
   "source": [
    "page_source = driver.page_source"
   ]
  },
  {
   "cell_type": "code",
   "execution_count": 3,
   "metadata": {},
   "outputs": [],
   "source": [
    "soup = BeautifulSoup(page_source, 'html.parser')"
   ]
  },
  {
   "cell_type": "code",
   "execution_count": 4,
   "metadata": {},
   "outputs": [
    {
     "data": {
      "text/plain": [
       "'img/logos/equipas/9_imgbank.png'"
      ]
     },
     "execution_count": 4,
     "metadata": {},
     "output_type": "execute_result"
    }
   ],
   "source": [
    "html_club_image = soup.find(\"div\",class_=\"profile_picture\")\n",
    "html_club_image.find(\"img\").get(\"src\")"
   ]
  },
  {
   "cell_type": "code",
   "execution_count": 5,
   "metadata": {},
   "outputs": [],
   "source": [
    "def divide_chunks(l, n):\n",
    "     \n",
    "    # looping till length l\n",
    "    for i in range(0, len(l), n):\n",
    "        yield l[i:i + n]"
   ]
  },
  {
   "cell_type": "code",
   "execution_count": 6,
   "metadata": {},
   "outputs": [
    {
     "name": "stdout",
     "output_type": "stream",
     "text": [
      "{'Liga dos Campeões': ['6', '4', '0', '2', '12-7'], 'Liga Portuguesa': ['13', '9', '2', '2', '31-9'], 'Supertaça': ['1', '1', '0', '0', '3-0'], 'Taça de Portugal': ['2', '2', '0', '0', '9-0'], 'Taça da Liga': ['2', '1', '1', '0', '4-2'], '': ['24', '17', '3', '4', '59-18']}\n"
     ]
    }
   ],
   "source": [
    "b = soup.find(id=\"entity_season\")\n",
    "\n",
    "lines = b.find_all(\"td\")\n",
    "\n",
    "x = list(divide_chunks(lines, 6))\n",
    "competitions = {}\n",
    "for i in range(len(x)-1):\n",
    "    competitions[x[i][0].text] = [x[i][1].text, x[i][2].text, x[i][3].text, x[i][4].text, x[i][5].text]\n",
    "\n",
    "\n",
    "print(competitions)"
   ]
  },
  {
   "cell_type": "code",
   "execution_count": 18,
   "metadata": {},
   "outputs": [
    {
     "name": "stdout",
     "output_type": "stream",
     "text": [
      "{'Taça Intercontinental': '2', 'Supertaça Europeia': '1', 'Liga dos Campeões': '2', 'Europa League': '2', 'Liga Portuguesa': '30', 'Taça de Portugal': '18', 'Supertaça Cândido de Oliveira': '23', 'Campeonato de Portugal (Extinto)': '4'}\n"
     ]
    }
   ],
   "source": [
    "c = soup.find(id=\"coach_titles\")\n",
    "titles = {}\n",
    "entries = c.find_all(\"div\", class_=\"trophy\")\n",
    "for x in entries:\n",
    "    titles[x.find(\"div\", class_=\"text\").text] = x.find(\"div\", class_=\"number\").text\n",
    "    # print(x.find(\"div\", class_=\"text\"))\n",
    "    # print(x.find(\"div\", class_=\"number\"))\n",
    "\n",
    "print(titles)"
   ]
  },
  {
   "cell_type": "code",
   "execution_count": 8,
   "metadata": {},
   "outputs": [
    {
     "name": "stdout",
     "output_type": "stream",
     "text": [
      "{'Nome': 'Futebol Clube do Porto', 'Alcunhas': 'Dragões, Azuis e Brancos, Portistas', 'Associação': 'AF Porto', 'Presidente': 'Jorge Nuno de Lima Pinto da Costa', 'Evolução histórica': 'FC Porto', 'Morada': 'Estádio do Dragão, Entrada Nascente, Porta 15, Piso 3 Via Futebol Clube do Porto, 4350-415 Porto', 'Site Oficial': 'http://www.fcporto.pt', 'E-mail': 'fcporto@fcporto.pt', 'Rankings': ('16', '60'), 'Hino Oficial': '', 'Ano de Fundação': ['1893-09-28'], 'Cidade': ['Porto'], 'País': ['Portugal'], 'Marca Equipamento': ['New Balance'], 'Patrocínio': ['Betano | New Balance | Revigrés | Super Bock | MEO'], 'Equipamento': [''], 'Outras Ligações': ['efgi'], 'Num.FPF': ['529']}\n"
     ]
    }
   ],
   "source": [
    "d = soup.find_all(id=\"entity_bio\")\n",
    "club_info = {}\n",
    "bio = d[0].find_all(\"div\", class_=\"bio\")\n",
    "bio_half = d[0].find_all(\"div\", class_=\"bio_half\")\n",
    "# print(bio)\n",
    "club_info=  {}\n",
    "for x in bio:\n",
    "    # print(x.contents[1])\n",
    "    # print(club_info[\"club\"])\n",
    "    if x.contents[1].text == \"UEFA: \":\n",
    "        \n",
    "        club_info[x.find(\"span\").text] = x.contents[2].text, x.contents[5].text\n",
    "        # club_info[\"club\"] += [x.contents[2].text, x.contents[5].text]\n",
    "    else:\n",
    "        club_info[x.find(\"span\").text] = x.contents[1].text\n",
    "\n",
    "for x in bio_half:\n",
    "    club_info[x.find(\"span\").text] = [x.contents[1].text]\n",
    "\n",
    "print(club_info)"
   ]
  }
 ],
 "metadata": {
  "kernelspec": {
   "display_name": "Python 3.10.8 64-bit (microsoft store)",
   "language": "python",
   "name": "python3"
  },
  "language_info": {
   "codemirror_mode": {
    "name": "ipython",
    "version": 3
   },
   "file_extension": ".py",
   "mimetype": "text/x-python",
   "name": "python",
   "nbconvert_exporter": "python",
   "pygments_lexer": "ipython3",
   "version": "3.10.9 (tags/v3.10.9:1dd9be6, Dec  6 2022, 20:01:21) [MSC v.1934 64 bit (AMD64)]"
  },
  "orig_nbformat": 4,
  "vscode": {
   "interpreter": {
    "hash": "f05704f4740528ec32f28c6a01955d2cfab9eb44c7658f067771bac1ea3accf5"
   }
  }
 },
 "nbformat": 4,
 "nbformat_minor": 2
}
