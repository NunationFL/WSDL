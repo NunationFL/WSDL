{
 "cells": [
  {
   "cell_type": "code",
   "execution_count": 2,
   "metadata": {},
   "outputs": [],
   "source": [
    "from selenium import webdriver\n",
    "from bs4 import BeautifulSoup\n",
    "import time\n",
    "import random\n",
    "\n",
    "driver = webdriver.Chrome()\n",
    "driver.get(\"https://www.zerozero.pt/edicao.php?id_edicao=165864\")"
   ]
  },
  {
   "cell_type": "code",
   "execution_count": 3,
   "metadata": {},
   "outputs": [],
   "source": [
    "page_source = driver.page_source"
   ]
  },
  {
   "cell_type": "code",
   "execution_count": 4,
   "metadata": {},
   "outputs": [],
   "source": [
    "soup = BeautifulSoup(page_source, 'html.parser')"
   ]
  },
  {
   "cell_type": "code",
   "execution_count": 5,
   "metadata": {},
   "outputs": [
    {
     "name": "stdout",
     "output_type": "stream",
     "text": [
      "{'Gonçalo Ramos': '9', 'Fran Navarro': '8', 'Pedro Gonçalves': '7'}\n",
      "{'Mehdi Taremi': '5'}\n"
     ]
    }
   ],
   "source": [
    "b = soup.find(\"div\", class_=\"rbbox nofooter\")\n",
    "children = b.findChildren(\"td\" , recursive=True)\n",
    "# print(b.prettify())\n",
    "\n",
    "scorers = {}\n",
    "top_assist = {}\n",
    "assists = []\n",
    "values = []\n",
    "for x in range(1,len(children)):\n",
    "    child = children[x].find(\"div\", class_=\"text\")\n",
    "    if child != None:\n",
    "        # print(child.contents[0].text)\n",
    "        assists.append(child.contents[0].text)\n",
    "        # scorers[child.contents[0].text] = \n",
    "        # scorers[child]\n",
    "for x in range(1,len(children)):\n",
    "    child = children[x].find(\"div\", class_=\"ball_numbers\")\n",
    "    if child != None:\n",
    "        # print(child.contents[0].text)\n",
    "        values.append(child.contents[0].text)\n",
    "\n",
    "        # scorers[child.contents[0].text] = \n",
    "        # scorers[child]\n",
    "# print(scorers)\n",
    "\n",
    "for x in range(len(assists)-2):\n",
    "    scorers[assists[x]] = values[x]\n",
    "\n",
    "top_assist[assists[len(assists)-1]] = values[-1]\n",
    "print(scorers)\n",
    "print(top_assist)"
   ]
  },
  {
   "cell_type": "code",
   "execution_count": 6,
   "metadata": {},
   "outputs": [
    {
     "name": "stdout",
     "output_type": "stream",
     "text": [
      "{'goals/game': '2,50', 'victories_home': '43%', 'Ties': '19%', 'victories_away': '38%'}\n"
     ]
    }
   ],
   "source": [
    "c = soup.find_all(\"div\", class_=\"edition_resume_stats\")\n",
    "stats = {}\n",
    "\n",
    "stats[\"goals/game\"] = c[0].text\n",
    "stats[\"victories_home\"] = c[1].text\n",
    "stats[\"Ties\"] = c[2].text\n",
    "stats[\"victories_away\"] = c[3].text\n",
    "print(stats)\n"
   ]
  },
  {
   "cell_type": "code",
   "execution_count": 7,
   "metadata": {},
   "outputs": [],
   "source": [
    "html_league_image = soup.find(\"div\",class_=\"profile_picture\")\n",
    "html_league_image.find(\"img\").get(\"src\")"
   ]
  },
  {
   "cell_type": "code",
   "execution_count": 22,
   "metadata": {},
   "outputs": [
    {
     "name": "stdout",
     "output_type": "stream",
     "text": [
      "img/logos/edicoes/156405_imgbank_.png\n"
     ]
    }
   ],
   "source": [
    "print(d.find(\"img\").get(\"src\"))"
   ]
  }
 ],
 "metadata": {
  "kernelspec": {
   "display_name": "Python 3.10.8 64-bit (microsoft store)",
   "language": "python",
   "name": "python3"
  },
  "language_info": {
   "codemirror_mode": {
    "name": "ipython",
    "version": 3
   },
   "file_extension": ".py",
   "mimetype": "text/x-python",
   "name": "python",
   "nbconvert_exporter": "python",
   "pygments_lexer": "ipython3",
   "version": "3.10.8"
  },
  "orig_nbformat": 4,
  "vscode": {
   "interpreter": {
    "hash": "f05704f4740528ec32f28c6a01955d2cfab9eb44c7658f067771bac1ea3accf5"
   }
  }
 },
 "nbformat": 4,
 "nbformat_minor": 2
}
