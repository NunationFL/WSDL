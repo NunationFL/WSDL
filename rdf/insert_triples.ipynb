{
 "cells": [
  {
   "cell_type": "code",
   "execution_count": 1,
   "metadata": {},
   "outputs": [
    {
     "name": "stderr",
     "output_type": "stream",
     "text": [
      "* Owlready2 * Warning: optimized Cython parser module 'owlready2_optimized' is not available, defaulting to slower Python implementation\n"
     ]
    }
   ],
   "source": [
    "from owlready2 import *\n",
    "import json\n",
    "\n",
    "onto = get_ontology(\"ontology.owl\").load()"
   ]
  },
  {
   "cell_type": "code",
   "execution_count": 2,
   "metadata": {},
   "outputs": [
    {
     "name": "stdout",
     "output_type": "stream",
     "text": [
      "{'Nome': ['Futebol Clube do Porto'], 'Alcunhas': ['Dragões, Azuis e Brancos, Portistas'], 'Associação': ['AF Porto'], 'Presidente': ['Jorge Nuno de Lima Pinto da Costa'], 'Evolução histórica': ['FC Porto'], 'Morada': ['Estádio do Dragão, Entrada Nascente, Porta 15, Piso 3 Via Futebol Clube do Porto, 4350-415 Porto'], 'Site Oficial': ['http://www.fcporto.pt'], 'E-mail': ['fcporto@fcporto.pt'], 'Rankings': ['16', '60'], 'Hino Oficial': [''], 'Ano de Fundação': ['1893-09-28'], 'Cidade': ['Porto'], 'País': ['Portugal'], 'Marca Equipamento': ['New Balance'], 'Patrocínio': ['Betano | New Balance | Revigrés | Super Bock | MEO'], 'Equipamento': [''], 'Outras Ligações': ['efgi'], 'Num.FPF': ['529']}\n"
     ]
    }
   ],
   "source": [
    "f = open('../scraping/results/22_23.json')\n",
    "website = \"https://www.zerozero.pt\"\n",
    "file = json.load(f)\n",
    "print(file['FC Porto'][15])"
   ]
  },
  {
   "cell_type": "code",
   "execution_count": 3,
   "metadata": {},
   "outputs": [],
   "source": [
    "league = onto.League(\"Liga_Portugal\", leagueName=[\"Liga Portugal\"])"
   ]
  },
  {
   "cell_type": "code",
   "execution_count": 4,
   "metadata": {},
   "outputs": [],
   "source": [
    "edition = onto.Edition(\"22_23\", editionYear=[\"22_23\"])\n",
    "edition.editionOfLeague = league\n",
    "\n",
    "for x in file:\n",
    "    clube = onto.Club(file[x][15].get(\"Nome\")[0].replace(\" \", \"_\"), clubFullName=file[x][15].get(\"Nome\"),\n",
    "                      clubSponsor=file[x][15].get(\"Patrocínio\"), clubZeroZeroLink=[website + file[x][12]],\n",
    "                      clubWebsite=file[x][15].get(\"Site Oficial\"), clubAdress=file[x][15].get(\"Morada\"),\n",
    "                      clubPresident=file[x][15].get(\"Presidente\"),\n",
    "                      clubUefaRanking=[str(file[x][15].get(\"Rankings\"))],\n",
    "                      clubFoundationYear=file[x][15].get(\"Ano de Fundação\"), clubCity=file[x][15].get(\"Cidade\"),\n",
    "                      clubEmail=file[x][15].get(\"E-mail\"), clubImage=[file[x][-2]],\n",
    "                      clubNickName=[file[x][15].get(\"Alcunhas\")],\n",
    "                      clubCountry=file[x][15].get(\"País\"), clubMainSponsor=file[x][15].get(\"Marca Equipamento\"),\n",
    "                      clubAssociation=file[x][15].get(\"Associação\"))\n",
    "\n",
    "    squad = onto.Squad((file[x][15].get(\"Nome\")[0] + \"22_23\").replace(\" \", \"_\"), squadYear=[23])\n",
    "    squad.squadParticipatedIn = edition\n",
    "    clube.clubHasSquad = [squad]\n",
    "    competitionsWon = file[\"Benfica\"][16]\n",
    "    for c in competitionsWon:\n",
    "        item = competitionsWon[c]\n",
    "        competition = onto.Competition(c.replace(\" \", \"_\"), competitionName=[c], competitionNumber=[item])\n",
    "        clube.clubWonCompetition.append(competition)\n",
    "\n",
    "    player_info = file[x][13]\n",
    "    for player in player_info:\n",
    "        y = player_info[player]\n",
    "        player = onto.Player(y[0].replace(\" \", \"_\"), playerimage=[y[11]], playername=[y[0]], playernationality=[y[4]],\n",
    "                             playernaturalFrom=[y[6]],\n",
    "                             playerposition=[y[7]], playerweight=[y[10]], playerheight=[y[9]], playerfoot=[y[8]],\n",
    "                             playerbirthdate=[y[2]], playerage=[y[1]], playerbirthplace=[y[6]])\n",
    "        player.playerPlayedForSquad = [squad]\n",
    "        player_records = y[12]\n",
    "        for name in player_records:\n",
    "            record = onto.Record(recordcompetitionname=[name], recordgames=[player_records[name][0]],\n",
    "                                 recordminutes=[player_records[name][1]], recordgoals=[player_records[name][2]],\n",
    "                                 recordassists=[player_records[name][3]])\n",
    "            player.playerHasRecord = [record]\n",
    "            record.recordForSquad = squad\n",
    "\n",
    "        player_titles = y[13]\n",
    "        for competition_name in player_titles:\n",
    "            times = player_titles[competition_name]\n",
    "            # print(competition_name)\n",
    "            # print(player_item)\n",
    "            player_competition = onto.Competition(competition_name.replace(\" \", \"_\"),\n",
    "                                                  competitionName=[competition_name])\n",
    "            for i in range(int(times)):\n",
    "                player.playerWonCompetition.append(player_competition)\n",
    "\n"
   ]
  },
  {
   "cell_type": "code",
   "execution_count": 5,
   "metadata": {},
   "outputs": [],
   "source": [
    "editions = [\"21_22\", \"20_21\"]\n",
    "\n",
    "for ed in editions:\n",
    "    f = open(\"../scraping/results/\" + ed + \".json\")\n",
    "    file = json.load(f)\n",
    "    edition = onto.Edition(ed, editionYear=[ed])\n",
    "    edition.editionOfLeague = league\n",
    "\n",
    "    for x in file:\n",
    "        if onto[(file[x][15].get(\"Nome\")[0]).replace(\" \", \"_\")] == None:\n",
    "            clube = onto.Club((file[x][15].get(\"Nome\")[0]).replace(\" \", \"_\"), clubFullName=file[x][15].get(\"Nome\"),\n",
    "                              clubSponsor=file[x][15].get(\"Patrocínio\"), clubZeroZeroLink=[website + file[x][12]],\n",
    "                              clubWebsite=file[x][15].get(\"Site Oficial\"), clubAdress=file[x][15].get(\"Morada\"),\n",
    "                              clubPresident=file[x][15].get(\"Presidente\"),\n",
    "                              clubUefaRanking=[str(file[x][15].get(\"Rankings\"))],\n",
    "                              clubFoundationYear=file[x][15].get(\"Ano de Fundação\"), clubCity=file[x][15].get(\"Cidade\"),\n",
    "                              clubEmail=file[x][15].get(\"E-mail\"), clubImage=[file[x][-2]],\n",
    "                              clubNickName=[file[x][15].get(\"Alcunhas\")],\n",
    "                              clubCountry=file[x][15].get(\"País\"), clubMainSponsor=file[x][15].get(\"Marca Equipamento\"),\n",
    "                              clubAssociation=file[x][15].get(\"Associação\"))\n",
    "\n",
    "        else:\n",
    "            clube = onto[(file[x][15].get(\"Nome\")[0]).replace(\" \", \"_\")]\n",
    "\n",
    "        squad = onto.Squad((file[x][15].get(\"Nome\")[0] + ed).replace(\" \", \"_\"), squadYear=[23])\n",
    "        squad.squadParticipatedIn = edition\n",
    "        clube.clubHasSquad.append(squad)\n",
    "\n",
    "        player_info = file[x][13]\n",
    "        for player in player_info:\n",
    "\n",
    "            y = player_info[player]\n",
    "            if onto[y[0].replace(\" \", \"_\")] == None:\n",
    "                player = onto.Player(y[0].replace(\" \", \"_\"), playerimage=[y[11]], playername=[y[0]],\n",
    "                                     playernationality=[y[4]], playernaturalFrom=[y[6]],\n",
    "                                     playerposition=[y[7]], playerweight=[y[10]], playerheight=[y[9]],\n",
    "                                     playerfoot=[y[8]], playerbirthdate=[y[2]], playerage=[y[1]],\n",
    "                                     playerbirthplace=[y[6]])\n",
    "            else:\n",
    "                player = onto[y[0].replace(\" \", \"_\")]\n",
    "\n",
    "            player.playerPlayedForSquad.append(squad)\n",
    "            player_records = y[12]\n",
    "            for name in player_records:\n",
    "                record = onto.Record(recordcompetitionname=[name], recordgames=[player_records[name][0]],\n",
    "                                     recordminutes=[player_records[name][1]], recordgoals=[player_records[name][2]],\n",
    "                                     recordassists=[player_records[name][3]])\n",
    "                player.playerHasRecord = [record]\n",
    "                record.recordForSquad = squad"
   ]
  },
  {
   "cell_type": "code",
   "execution_count": 6,
   "metadata": {},
   "outputs": [
    {
     "name": "stdout",
     "output_type": "stream",
     "text": [
      "ontology.Sport_Lisboa_e_Benfica\n",
      "ontology.Futebol_Clube_do_Porto\n",
      "ontology.Sporting_Clube_de_Braga\n",
      "ontology.Sporting_Clube_de_Portugal\n",
      "ontology.Casa_Pia_Atlético_Clube\n",
      "ontology.Vitória_Sport_Clube\n",
      "ontology.Portimonense_Sporting_Clube\n",
      "ontology.Futebol_Clube_de_Arouca\n",
      "ontology.Grupo_Desportivo_de_Chaves\n",
      "ontology.Rio_Ave_Futebol_Clube\n",
      "ontology.Boavista_Futebol_Clube\n",
      "ontology.Grupo_Desportivo_Estoril_Praia\n",
      "ontology.Futebol_Clube_de_Vizela\n",
      "ontology.Clube_Desportivo_Santa_Clara\n",
      "ontology.Futebol_Clube_de_Famalicão\n",
      "ontology.Gil_Vicente_Futebol_Clube\n",
      "ontology.Club_Sport_Marítimo\n",
      "ontology.Futebol_Clube_Paços_de_Ferreira\n",
      "ontology.Moreirense_Futebol_Clube\n",
      "ontology.Clube_Desportivo_de_Tondela\n",
      "ontology.B_SAD\n",
      "ontology.Sporting_Clube_Farense\n",
      "ontology.Clube_Desportivo_Nacional\n"
     ]
    }
   ],
   "source": [
    "\n",
    "for i in onto.Club.instances():\n",
    "    print(i)\n"
   ]
  },
  {
   "cell_type": "code",
   "execution_count": 7,
   "metadata": {},
   "outputs": [],
   "source": [
    "onto.save(file=\"result\", format=\"rdfxml\")"
   ]
  },
  {
   "cell_type": "code",
   "execution_count": 7,
   "metadata": {},
   "outputs": [],
   "source": []
  }
 ],
 "metadata": {
  "kernelspec": {
   "display_name": "Python 3.10.9 64-bit (microsoft store)",
   "language": "python",
   "name": "python3"
  },
  "language_info": {
   "codemirror_mode": {
    "name": "ipython",
    "version": 3
   },
   "file_extension": ".py",
   "mimetype": "text/x-python",
   "name": "python",
   "nbconvert_exporter": "python",
   "pygments_lexer": "ipython3",
   "version": "3.10.9"
  },
  "orig_nbformat": 4,
  "vscode": {
   "interpreter": {
    "hash": "f05704f4740528ec32f28c6a01955d2cfab9eb44c7658f067771bac1ea3accf5"
   }
  }
 },
 "nbformat": 4,
 "nbformat_minor": 2
}
