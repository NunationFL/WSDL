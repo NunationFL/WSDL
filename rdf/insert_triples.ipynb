{
 "cells": [
  {
   "cell_type": "code",
   "execution_count": null,
   "metadata": {},
   "outputs": [],
   "source": [
    "from owlready2 import *\n",
    "import json\n",
    "\n",
    "\n",
    "onto = get_ontology(\"ontology.owl\").load()"
   ]
  },
  {
   "cell_type": "code",
   "execution_count": null,
   "metadata": {},
   "outputs": [],
   "source": [
    "f = open('../scraping/results/22_23.json')\n",
    "website = \"https://www.zerozero.pt\"\n",
    "file = json.load(f)\n",
    "print(file['FC Porto'][15])"
   ]
  },
  {
   "cell_type": "code",
   "execution_count": null,
   "metadata": {},
   "outputs": [],
   "source": [
    "league = onto.League(\"Liga_Portugal\", leagueName=[\"Liga Portugal\"])"
   ]
  },
  {
   "cell_type": "code",
   "execution_count": null,
   "metadata": {},
   "outputs": [],
   "source": [
    "edition = onto.Edition(\"22_23\", editionYear=[\"22_23\"])\n",
    "edition.editionOfLeague = league\n",
    "\n",
    "\n",
    "for x in file:\n",
    "    clube = onto.Club(file[x][15].get(\"Nome\")[0].replace(\" \", \"_\"), clubFullName=file[x][15].get(\"Nome\"), clubSponsor=file[x][15].get(\"Patrocínio\"), clubZeroZeroLink=[website+file[x][12]],\n",
    "                    clubWebsite=file[x][15].get(\"Site Oficial\"), clubAdress=file[x][15].get(\"Morada\"), clubPresident=file[x][15].get(\"Presidente\"),\n",
    "                    clubUefaRanking=[str(file[x][15].get(\"Rankings\"))], clubFoundationYear=file[x][15].get(\"Ano de Fundação\"), clubCity=file[x][15].get(\"Cidade\"),\n",
    "                    clubEmail=file[x][15].get(\"E-mail\"), clubImage=[file[x][-2]], clubNickName=[file[x][15].get(\"Alcunhas\")],\n",
    "                    clubCountry=file[x][15].get(\"País\"), clubMainSponsor=file[x][15].get(\"Marca Equipamento\"), clubAssociation=file[x][15].get(\"Associação\"))\n",
    "    \n",
    "\n",
    "    squad = onto.Squad((file[x][15].get(\"Nome\")[0]+\"22_23\").replace(\" \", \"_\"), squadYear=[23])\n",
    "    squad.squadParticipatedIn = edition\n",
    "    clube.clubHasSquad = [squad]\n",
    "    competitionsWon = file[\"Benfica\"][16]\n",
    "    for c in competitionsWon:\n",
    "        item = competitionsWon[c]\n",
    "        competition = onto.Competition(c.replace(\" \", \"_\"), competitionName=[c], competitionNumber=[item])\n",
    "        clube.clubWonCompetition.append(competition)\n",
    "\n",
    "    player_info = file[x][13]\n",
    "    for player in player_info:\n",
    "        y = player_info[player]\n",
    "        player = onto.Player(y[0].replace(\" \", \"_\"), playerimage=[y[11]], playername=[y[0]], playernationality=[y[4]], playernaturalFrom=[y[6]],\n",
    "                playerposition=[y[7]], playerweight=[y[10]], playerheight=[y[9]], playerfoot=[y[8]],playerbirthdate= [y[2]], playerage=[y[1]], playerbirthplace=[y[6]])\n",
    "        player.playerPlayedForSquad = [squad]\n",
    "        player_records = y[12]\n",
    "        for name in player_records:\n",
    "            record = onto.Record(recordcompetitionname=[name], recordgames=[player_records[name][0]], recordminutes=[player_records[name][1]], recordgoals=[player_records[name][2]], recordassists=[player_records[name][3]])\n",
    "            player.playerHasRecord = [record]\n",
    "            record.recordForSquad = squad\n",
    "\n",
    "        player_titles = y[13]\n",
    "        for competition_name in player_titles:\n",
    "            times = player_titles[competition_name]\n",
    "            # print(competition_name)\n",
    "            # print(player_item)\n",
    "            player_competition = onto.Competition(competition_name.replace(\" \", \"_\"), competitionName=[competition_name])\n",
    "            for i in range(int(times)):\n",
    "                player.playerWonCompetition.append(player_competition)\n",
    "\n"
   ]
  },
  {
   "cell_type": "code",
   "execution_count": null,
   "metadata": {},
   "outputs": [],
   "source": [
    "editions = [\"21_22\", \"20_21\"]\n",
    "\n",
    "for ed in editions:\n",
    "    f = open(\"../scraping/results/\" +ed + \".json\")\n",
    "    file = json.load(f)\n",
    "    edition = onto.Edition(ed, editionYear=[ed])\n",
    "    edition.editionOfLeague = league\n",
    "\n",
    "    for x in file:\n",
    "        if onto[(file[x][15].get(\"Nome\")[0]).replace(\" \", \"_\")] == None:\n",
    "            clube = onto.Club((file[x][15].get(\"Nome\")[0]).replace(\" \", \"_\"), clubFullName=file[x][15].get(\"Nome\"), clubSponsor=file[x][15].get(\"Patrocínio\"), clubZeroZeroLink=[website+file[x][12]],\n",
    "            clubWebsite=file[x][15].get(\"Site Oficial\"), clubAdress=file[x][15].get(\"Morada\"), clubPresident=file[x][15].get(\"Presidente\"),\n",
    "            clubUefaRanking=[str(file[x][15].get(\"Rankings\"))], clubFoundationYear=file[x][15].get(\"Ano de Fundação\"), clubCity=file[x][15].get(\"Cidade\"),\n",
    "            clubEmail=file[x][15].get(\"E-mail\"), clubImage=[file[x][-2]], clubNickName=[file[x][15].get(\"Alcunhas\")],\n",
    "            clubCountry=file[x][15].get(\"País\"), clubMainSponsor=file[x][15].get(\"Marca Equipamento\"), clubAssociation=file[x][15].get(\"Associação\"))\n",
    "        \n",
    "        else:\n",
    "            clube = onto[(file[x][15].get(\"Nome\")[0]).replace(\" \", \"_\")]\n",
    "\n",
    "        squad = onto.Squad((file[x][15].get(\"Nome\")[0]+ed).replace(\" \", \"_\"), squadYear=[23])\n",
    "        squad.squadParticipatedIn = edition\n",
    "        clube.clubHasSquad.append(squad)\n",
    "\n",
    "        player_info = file[x][13]\n",
    "        for player in player_info:\n",
    "\n",
    "            y = player_info[player]\n",
    "            if onto[y[0].replace(\" \", \"_\")] == None:\n",
    "                player = onto.Player(y[0].replace(\" \", \"_\"), playerimage=[y[11]], playername=[y[0]], playernationality=[y[4]], playernaturalFrom=[y[6]],\n",
    "                        playerposition=[y[7]], playerweight=[y[10]], playerheight=[y[9]], playerfoot=[y[8]],playerbirthdate= [y[2]], playerage=[y[1]], playerbirthplace=[y[6]])\n",
    "            else:\n",
    "                player = onto[y[0].replace(\" \", \"_\")]\n",
    "\n",
    "            player.playerPlayedForSquad.append(squad)\n",
    "            player_records = y[12]\n",
    "            for name in player_records:\n",
    "                record = onto.Record(recordcompetitionname=[name], recordgames=[player_records[name][0]], recordminutes=[player_records[name][1]], recordgoals=[player_records[name][2]], recordassists=[player_records[name][3]])\n",
    "                player.playerHasRecord = [record]\n",
    "                record.recordForSquad = squad"
   ]
  },
  {
   "cell_type": "code",
   "execution_count": null,
   "metadata": {},
   "outputs": [],
   "source": [
    "\n",
    "for i in onto.Club.instances(): \n",
    "    print(i)\n"
   ]
  },
  {
   "cell_type": "code",
   "execution_count": null,
   "metadata": {},
   "outputs": [],
   "source": [
    "onto.save(file = \"result\", format = \"rdfxml\")"
   ]
  },
  {
   "cell_type": "code",
   "execution_count": null,
   "metadata": {},
   "outputs": [],
   "source": []
  }
 ],
 "metadata": {
  "kernelspec": {
   "display_name": "Python 3.10.9 64-bit (microsoft store)",
   "language": "python",
   "name": "python3"
  },
  "language_info": {
   "codemirror_mode": {
    "name": "ipython",
    "version": 3
   },
   "file_extension": ".py",
   "mimetype": "text/x-python",
   "name": "python",
   "nbconvert_exporter": "python",
   "pygments_lexer": "ipython3",
   "version": "3.10.9"
  },
  "orig_nbformat": 4,
  "vscode": {
   "interpreter": {
    "hash": "f05704f4740528ec32f28c6a01955d2cfab9eb44c7658f067771bac1ea3accf5"
   }
  }
 },
 "nbformat": 4,
 "nbformat_minor": 2
}
