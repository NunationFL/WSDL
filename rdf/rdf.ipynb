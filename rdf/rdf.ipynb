{
 "cells": [
  {
   "cell_type": "code",
   "execution_count": 55,
   "metadata": {},
   "outputs": [
    {
     "name": "stdout",
     "output_type": "stream",
     "text": [
      "Graph g has 149 statements.\n",
      "Miguel: Teste\n"
     ]
    }
   ],
   "source": [
    "from rdflib import Graph\n",
    "\n",
    "# Create a Graph\n",
    "g = Graph()\n",
    "\n",
    "# Parse in an RDF file hosted on the Internet\n",
    "g.parse(\"ontology.owl\")\n",
    "\n",
    "# Loop through each triple in the graph (subj, pred, obj)\n",
    "for subj, pred, obj in g:\n",
    "    # Check if there is at least one triple in the Graph\n",
    "    if (subj, pred, obj) not in g:\n",
    "       raise Exception(\"It better be!\")\n",
    "\n",
    "# Print the number of \"triples\" in the Graph\n",
    "print(f\"Graph g has {len(g)} statements.\")\n",
    "# Prints: Graph g has 86 statements.\n",
    "\n",
    "# Print out the entire Graph in the RDF Turtle format\n",
    "#print(g.serialize(format=\"turtle\"))\n",
    "\n",
    "g.update(\"\"\"INSERT DATA { \"Miguel\" a <http://www.semanticweb.org/miguel/ontologies/2022/10/FootyPedia#Player> }\"\"\")\n",
    "\n",
    "g.update(\"\"\"INSERT DATA { \"Miguel\" <http://www.semanticweb.org/miguel/ontologies/2022/10/FootyPedia#playername>  \"Teste\" }\"\"\")\n",
    "\n",
    "for p in g.query(\"\"\"SELECT ?v ?n WHERE {\n",
    "    ?v a <http://www.semanticweb.org/miguel/ontologies/2022/10/FootyPedia#Player>;\n",
    "    <http://www.semanticweb.org/miguel/ontologies/2022/10/FootyPedia#playername> ?n .\n",
    "} \"\"\"):\n",
    "    print(p.v + \": \" +p.n)"
   ]
  },
  {
   "cell_type": "code",
   "execution_count": 61,
   "metadata": {},
   "outputs": [
    {
     "ename": "LexingError",
     "evalue": "('Lexing error near \"DATA { \"Miguel\"...\"!', 7)",
     "output_type": "error",
     "traceback": [
      "\u001B[0;31m---------------------------------------------------------------------------\u001B[0m",
      "\u001B[0;31mLexingError\u001B[0m                               Traceback (most recent call last)",
      "Cell \u001B[0;32mIn[61], line 5\u001B[0m\n\u001B[1;32m      1\u001B[0m \u001B[38;5;28;01mfrom\u001B[39;00m \u001B[38;5;21;01mowlready2\u001B[39;00m \u001B[38;5;28;01mimport\u001B[39;00m \u001B[38;5;241m*\u001B[39m\n\u001B[1;32m      3\u001B[0m go \u001B[38;5;241m=\u001B[39m get_ontology(\u001B[38;5;124m\"\u001B[39m\u001B[38;5;124montology.owl\u001B[39m\u001B[38;5;124m\"\u001B[39m)\u001B[38;5;241m.\u001B[39mload()\n\u001B[0;32m----> 5\u001B[0m \u001B[43mdefault_world\u001B[49m\u001B[38;5;241;43m.\u001B[39;49m\u001B[43msparql\u001B[49m\u001B[43m(\u001B[49m\u001B[38;5;124;43m\"\"\"\u001B[39;49m\u001B[38;5;124;43mINSERT DATA \u001B[39;49m\u001B[38;5;124;43m{\u001B[39;49m\u001B[38;5;124;43m \u001B[39;49m\u001B[38;5;124;43m\"\u001B[39;49m\u001B[38;5;124;43mMiguel\u001B[39;49m\u001B[38;5;124;43m\"\u001B[39;49m\u001B[38;5;124;43m a <http://www.semanticweb.org/miguel/ontologies/2022/10/FootyPedia#Player> }\u001B[39;49m\u001B[38;5;124;43m\"\"\"\u001B[39;49m\u001B[43m)\u001B[49m\n\u001B[1;32m      7\u001B[0m default_world\u001B[38;5;241m.\u001B[39msparql(\u001B[38;5;124m\"\"\"\u001B[39m\u001B[38;5;124mINSERT DATA \u001B[39m\u001B[38;5;124m{\u001B[39m\u001B[38;5;124m \u001B[39m\u001B[38;5;124m\"\u001B[39m\u001B[38;5;124mMiguel\u001B[39m\u001B[38;5;124m\"\u001B[39m\u001B[38;5;124m <http://www.semanticweb.org/miguel/ontologies/2022/10/FootyPedia#playername>  \u001B[39m\u001B[38;5;124m\"\u001B[39m\u001B[38;5;124mTeste\u001B[39m\u001B[38;5;124m\"\u001B[39m\u001B[38;5;124m }\u001B[39m\u001B[38;5;124m\"\"\"\u001B[39m)\n\u001B[1;32m      9\u001B[0m a \u001B[38;5;241m=\u001B[39m default_world\u001B[38;5;241m.\u001B[39msparql(\u001B[38;5;124m\"\"\"\u001B[39m\u001B[38;5;124mSELECT ?v ?n WHERE \u001B[39m\u001B[38;5;124m{\u001B[39m\n\u001B[1;32m     10\u001B[0m \u001B[38;5;124m    ?v a <http://www.semanticweb.org/miguel/ontologies/2022/10/FootyPedia#Player>;\u001B[39m\n\u001B[1;32m     11\u001B[0m \u001B[38;5;124m    <http://www.semanticweb.org/miguel/ontologies/2022/10/FootyPedia#playername> ?n .\u001B[39m\n\u001B[1;32m     12\u001B[0m \u001B[38;5;124m} \u001B[39m\u001B[38;5;124m\"\"\"\u001B[39m)\n",
      "File \u001B[0;32m~/Documentos/Faculdade/5_1/WSDL/venv/lib/python3.9/site-packages/owlready2/namespace.py:535\u001B[0m, in \u001B[0;36mWorld.sparql\u001B[0;34m(self, sparql, params, error_on_undefined_entities)\u001B[0m\n\u001B[1;32m    533\u001B[0m \u001B[38;5;28;01mdef\u001B[39;00m \u001B[38;5;21msparql\u001B[39m(\u001B[38;5;28mself\u001B[39m, sparql, params \u001B[38;5;241m=\u001B[39m (), error_on_undefined_entities \u001B[38;5;241m=\u001B[39m \u001B[38;5;28;01mTrue\u001B[39;00m):\n\u001B[1;32m    534\u001B[0m   \u001B[38;5;28;01mimport\u001B[39;00m \u001B[38;5;21;01mowlready2\u001B[39;00m\u001B[38;5;21;01m.\u001B[39;00m\u001B[38;5;21;01msparql\u001B[39;00m\u001B[38;5;21;01m.\u001B[39;00m\u001B[38;5;21;01mmain\u001B[39;00m\n\u001B[0;32m--> 535\u001B[0m   query \u001B[38;5;241m=\u001B[39m \u001B[38;5;28;43mself\u001B[39;49m\u001B[38;5;241;43m.\u001B[39;49m\u001B[43m_prepare_sparql\u001B[49m\u001B[43m(\u001B[49m\u001B[43msparql\u001B[49m\u001B[43m,\u001B[49m\u001B[43m \u001B[49m\u001B[43merror_on_undefined_entities\u001B[49m\u001B[43m)\u001B[49m\n\u001B[1;32m    536\u001B[0m   \u001B[38;5;28;01mreturn\u001B[39;00m query\u001B[38;5;241m.\u001B[39mexecute(params)\n",
      "File \u001B[0;32m~/Documentos/Faculdade/5_1/WSDL/venv/lib/python3.9/site-packages/owlready2/namespace.py:541\u001B[0m, in \u001B[0;36mWorld._prepare_sparql\u001B[0;34m(self, sparql, error_on_undefined_entities)\u001B[0m\n\u001B[1;32m    538\u001B[0m \u001B[38;5;129m@lru_cache\u001B[39m(maxsize \u001B[38;5;241m=\u001B[39m \u001B[38;5;241m1024\u001B[39m)\n\u001B[1;32m    539\u001B[0m \u001B[38;5;28;01mdef\u001B[39;00m \u001B[38;5;21m_prepare_sparql\u001B[39m(\u001B[38;5;28mself\u001B[39m, sparql, error_on_undefined_entities):\n\u001B[1;32m    540\u001B[0m   \u001B[38;5;28;01mimport\u001B[39;00m \u001B[38;5;21;01mowlready2\u001B[39;00m\u001B[38;5;21;01m.\u001B[39;00m\u001B[38;5;21;01msparql\u001B[39;00m\u001B[38;5;21;01m.\u001B[39;00m\u001B[38;5;21;01mmain\u001B[39;00m\n\u001B[0;32m--> 541\u001B[0m   \u001B[38;5;28;01mreturn\u001B[39;00m \u001B[43mowlready2\u001B[49m\u001B[38;5;241;43m.\u001B[39;49m\u001B[43msparql\u001B[49m\u001B[38;5;241;43m.\u001B[39;49m\u001B[43mmain\u001B[49m\u001B[38;5;241;43m.\u001B[39;49m\u001B[43mTranslator\u001B[49m\u001B[43m(\u001B[49m\u001B[38;5;28;43mself\u001B[39;49m\u001B[43m,\u001B[49m\u001B[43m \u001B[49m\u001B[43merror_on_undefined_entities\u001B[49m\u001B[43m)\u001B[49m\u001B[38;5;241;43m.\u001B[39;49m\u001B[43mparse\u001B[49m\u001B[43m(\u001B[49m\u001B[43msparql\u001B[49m\u001B[43m)\u001B[49m\n",
      "File \u001B[0;32m~/Documentos/Faculdade/5_1/WSDL/venv/lib/python3.9/site-packages/owlready2/sparql/main.py:61\u001B[0m, in \u001B[0;36mTranslator.parse\u001B[0;34m(self, sparql)\u001B[0m\n\u001B[1;32m     59\u001B[0m   \u001B[38;5;28mself\u001B[39m\u001B[38;5;241m.\u001B[39mescape_mark \u001B[38;5;241m+\u001B[39m\u001B[38;5;241m=\u001B[39m \u001B[38;5;124m\"\u001B[39m\u001B[38;5;124mç\u001B[39m\u001B[38;5;124m\"\u001B[39m\n\u001B[1;32m     60\u001B[0m CURRENT_TRANSLATOR\u001B[38;5;241m.\u001B[39mset(\u001B[38;5;28mself\u001B[39m)\n\u001B[0;32m---> 61\u001B[0m \u001B[38;5;28mself\u001B[39m\u001B[38;5;241m.\u001B[39mmain_query \u001B[38;5;241m=\u001B[39m \u001B[43mPARSER\u001B[49m\u001B[38;5;241;43m.\u001B[39;49m\u001B[43mparse\u001B[49m\u001B[43m(\u001B[49m\u001B[43mLEXER\u001B[49m\u001B[38;5;241;43m.\u001B[39;49m\u001B[43mlex\u001B[49m\u001B[43m(\u001B[49m\u001B[43msparql\u001B[49m\u001B[43m)\u001B[49m\u001B[43m)\u001B[49m\n\u001B[1;32m     62\u001B[0m \u001B[38;5;28;01mreturn\u001B[39;00m \u001B[38;5;28mself\u001B[39m\u001B[38;5;241m.\u001B[39mfinalize()\n",
      "File \u001B[0;32m~/Documentos/Faculdade/5_1/WSDL/venv/lib/python3.9/site-packages/owlready2/rply.py:424\u001B[0m, in \u001B[0;36mLRParser.parse\u001B[0;34m(self, tokenizer, state)\u001B[0m\n\u001B[1;32m    422\u001B[0m \u001B[38;5;28;01mif\u001B[39;00m lookaheadstack:      lookahead \u001B[38;5;241m=\u001B[39m lookaheadstack\u001B[38;5;241m.\u001B[39mpop()\n\u001B[1;32m    423\u001B[0m \u001B[38;5;28;01melse\u001B[39;00m:\n\u001B[0;32m--> 424\u001B[0m   \u001B[38;5;28;01mtry\u001B[39;00m:                  lookahead \u001B[38;5;241m=\u001B[39m \u001B[38;5;28;43mnext\u001B[39;49m\u001B[43m(\u001B[49m\u001B[43mtokenizer\u001B[49m\u001B[43m)\u001B[49m\n\u001B[1;32m    425\u001B[0m   \u001B[38;5;28;01mexcept\u001B[39;00m \u001B[38;5;167;01mStopIteration\u001B[39;00m: lookahead \u001B[38;5;241m=\u001B[39m \u001B[38;5;28;01mNone\u001B[39;00m\n\u001B[1;32m    427\u001B[0m \u001B[38;5;28;01mif\u001B[39;00m lookahead \u001B[38;5;129;01mis\u001B[39;00m \u001B[38;5;28;01mNone\u001B[39;00m:\n",
      "File \u001B[0;32m~/Documentos/Faculdade/5_1/WSDL/venv/lib/python3.9/site-packages/owlready2/rply.py:349\u001B[0m, in \u001B[0;36mLexerStream.next\u001B[0;34m(self)\u001B[0m\n\u001B[1;32m    347\u001B[0m     \u001B[38;5;28;01mreturn\u001B[39;00m token\n\u001B[1;32m    348\u001B[0m \u001B[38;5;28;01melse\u001B[39;00m:\n\u001B[0;32m--> 349\u001B[0m   \u001B[38;5;28;01mraise\u001B[39;00m LexingError(\u001B[38;5;124m'\u001B[39m\u001B[38;5;124mLexing error near \u001B[39m\u001B[38;5;124m\"\u001B[39m\u001B[38;5;132;01m%s\u001B[39;00m\u001B[38;5;124m...\u001B[39m\u001B[38;5;124m\"\u001B[39m\u001B[38;5;124m!\u001B[39m\u001B[38;5;124m'\u001B[39m \u001B[38;5;241m%\u001B[39m \u001B[38;5;28mself\u001B[39m\u001B[38;5;241m.\u001B[39ms[\u001B[38;5;28mself\u001B[39m\u001B[38;5;241m.\u001B[39midx : \u001B[38;5;28mself\u001B[39m\u001B[38;5;241m.\u001B[39midx \u001B[38;5;241m+\u001B[39m \u001B[38;5;241m15\u001B[39m], \u001B[38;5;28mself\u001B[39m\u001B[38;5;241m.\u001B[39midx)\n",
      "\u001B[0;31mLexingError\u001B[0m: ('Lexing error near \"DATA { \"Miguel\"...\"!', 7)"
     ]
    }
   ],
   "source": [
    "from owlready2 import *\n",
    "\n",
    "go = get_ontology(\"ontology.owl\").load()\n",
    "\n",
    "default_world.sparql(\"\"\"INSERT DATA { \"Miguel\" a <http://www.semanticweb.org/miguel/ontologies/2022/10/FootyPedia#Player> }\"\"\")\n",
    "\n",
    "default_world.sparql(\"\"\"INSERT DATA { \"Miguel\" <http://www.semanticweb.org/miguel/ontologies/2022/10/FootyPedia#playername>  \"Teste\" }\"\"\")\n",
    "\n",
    "a = default_world.sparql(\"\"\"SELECT ?v ?n WHERE {\n",
    "    ?v a <http://www.semanticweb.org/miguel/ontologies/2022/10/FootyPedia#Player>;\n",
    "    <http://www.semanticweb.org/miguel/ontologies/2022/10/FootyPedia#playername> ?n .\n",
    "} \"\"\")\n",
    "\n",
    "for p in a:\n",
    "    print(p.v + \": \" +p.n)\n"
   ]
  },
  {
   "cell_type": "code",
   "execution_count": null,
   "outputs": [],
   "source": [],
   "metadata": {
    "collapsed": false
   }
  }
 ],
 "metadata": {
  "kernelspec": {
   "display_name": "Python 3 (ipykernel)",
   "language": "python",
   "name": "python3"
  },
  "language_info": {
   "codemirror_mode": {
    "name": "ipython",
    "version": 3
   },
   "file_extension": ".py",
   "mimetype": "text/x-python",
   "name": "python",
   "nbconvert_exporter": "python",
   "pygments_lexer": "ipython3",
   "version": "3.9.7"
  },
  "vscode": {
   "interpreter": {
    "hash": "f05704f4740528ec32f28c6a01955d2cfab9eb44c7658f067771bac1ea3accf5"
   }
  }
 },
 "nbformat": 4,
 "nbformat_minor": 2
}
